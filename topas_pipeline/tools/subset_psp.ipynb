{
 "cells": [
  {
   "cell_type": "code",
   "execution_count": 3,
   "id": "2e762983",
   "metadata": {},
   "outputs": [],
   "source": [
    "import pandas as pd\n",
    "import numpy as np\n",
    "import os\n",
    "import sys"
   ]
  },
  {
   "cell_type": "code",
   "execution_count": 14,
   "id": "c6b872f6",
   "metadata": {},
   "outputs": [],
   "source": [
    "# skip lines??\n",
    "\n",
    "kinase_substrate_file = '/media/kusterlab/line_functions/bioinformatics/Databases/psite_annotation_mapping/PhosphoSitePlus/2024/Kinase_Substrate_Dataset'\n",
    "# df = pd.read_csv('/media/kusterlab/line_functions/bioinformatics/Databases/psite_annotation_mapping/PhosphoSitePlus/2024/Kinase_Substrate_Dataset', sep='\\t', low_memory=False)\n",
    "\n",
    "df = pd.read_csv(kinase_substrate_file, sep=\"\\t\", header=1)\n"
   ]
  },
  {
   "cell_type": "code",
   "execution_count": 17,
   "id": "4d95cd61",
   "metadata": {},
   "outputs": [],
   "source": [
    "df\n",
    "# filter out where KIN_ORGANISM != HUMAN\n",
    "df_human = df[df['KIN_ORGANISM'] == 'human']\n",
    "# filter out where SUB_ORGANISM != HUMAN\n",
    "df_human = df_human[df_human['SUB_ORGANISM'] == 'human']\n",
    "df_human.to_csv('/media/kusterlab/users_files/Cecilia_Jensen/psp_human_kinase_substrate.tsv', sep='\\t', index=False)"
   ]
  },
  {
   "cell_type": "code",
   "execution_count": null,
   "id": "9ae02e51",
   "metadata": {},
   "outputs": [],
   "source": []
  },
  {
   "cell_type": "code",
   "execution_count": null,
   "id": "cfc77812",
   "metadata": {},
   "outputs": [],
   "source": []
  }
 ],
 "metadata": {
  "kernelspec": {
   "display_name": "topas-pipeline-KWgSVD8J-py3.9",
   "language": "python",
   "name": "python3"
  },
  "language_info": {
   "codemirror_mode": {
    "name": "ipython",
    "version": 3
   },
   "file_extension": ".py",
   "mimetype": "text/x-python",
   "name": "python",
   "nbconvert_exporter": "python",
   "pygments_lexer": "ipython3",
   "version": "3.9.5"
  }
 },
 "nbformat": 4,
 "nbformat_minor": 5
}
